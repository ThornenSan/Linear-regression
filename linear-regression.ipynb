{
 "cells": [
  {
   "cell_type": "code",
   "execution_count": 42,
   "metadata": {},
   "outputs": [
    {
     "name": "stdout",
     "output_type": "stream",
     "text": [
      "         price     size\n",
      "0   234314.144   643.09\n",
      "1   228581.528   656.22\n",
      "2   281626.336   487.29\n",
      "3   401255.608  1504.75\n",
      "4   458674.256  1275.46\n",
      "..         ...      ...\n",
      "95  252460.400   549.80\n",
      "96  310522.592  1037.44\n",
      "97  383635.568  1504.75\n",
      "98  225145.248   648.29\n",
      "99  274922.856   705.29\n",
      "\n",
      "[100 rows x 2 columns]\n"
     ]
    }
   ],
   "source": [
    "import pandas as pd\n",
    "import numpy as np\n",
    "data = open(\"real-estate.csv\")\n",
    "dataset = pd.read_csv(data)\n",
    "\n",
<<<<<<< HEAD
    "x = dataset.iloc[:, :-1].values ",
=======
    "x = dataset.iloc[:, :-1].values ,
>>>>>>> 9258c7a37793cb2b458f73ff668637e3f0722313
    "y = dataset.iloc[:, 1].values\n",
    "print(dataset)"
   ]
  },
  {
   "cell_type": "code",
   "execution_count": 43,
   "metadata": {},
   "outputs": [],
   "source": [
    "from sklearn.model_selection import train_test_split\n",
    "\n",
    "x_train, x_test, y_train, y_test = train_test_split(x, y, test_size= 0.2)"
   ]
  },
  {
   "cell_type": "code",
   "execution_count": 44,
   "metadata": {},
   "outputs": [
    {
     "data": {
      "text/plain": [
       "PolynomialFeatures()"
      ]
     },
     "execution_count": 44,
     "metadata": {},
     "output_type": "execute_result"
    }
   ],
   "source": [
    "from sklearn.preprocessing import PolynomialFeatures\n",
    "\n",
    "multi_poly = PolynomialFeatures(degree=2)\n",
    "x_poly = multi_poly.fit_transform(x_train)\n",
    "multi_poly.fit(x_poly, y_train)"
   ]
  },
  {
   "cell_type": "code",
   "execution_count": 45,
   "metadata": {},
   "outputs": [
    {
     "data": {
      "text/plain": [
       "LinearRegression()"
      ]
     },
     "execution_count": 45,
     "metadata": {},
     "output_type": "execute_result"
    }
   ],
   "source": [
    "from sklearn import linear_model\n",
    "from sklearn.linear_model import LinearRegression\n",
    "lin_reg_multi = LinearRegression()\n",
    "lin_reg_multi.fit(x_poly, y_train)"
   ]
  },
  {
   "cell_type": "code",
   "execution_count": 41,
   "metadata": {},
   "outputs": [
    {
     "name": "stdout",
     "output_type": "stream",
     "text": [
      "154.6644168815998\n"
     ]
    }
   ],
   "source": [
    "y_pred = lin_reg_multi.predict(multi_poly.fit_transform(x_test))\n",
    "\n",
    "from sklearn import metrics\n",
    "from math import sqrt\n",
    "MSE = metrics.mean_squared_error(y_test, y_pred)\n",
    "print(sqrt(MSE))"
   ]
  }
 ],
 "metadata": {
  "kernelspec": {
   "display_name": "Python 3",
   "language": "python",
   "name": "python3"
  },
  "language_info": {
   "codemirror_mode": {
    "name": "ipython",
    "version": 3
   },
   "file_extension": ".py",
   "mimetype": "text/x-python",
   "name": "python",
   "nbconvert_exporter": "python",
   "pygments_lexer": "ipython3",
   "version": "3.8.6"
  }
 },
 "nbformat": 4,
 "nbformat_minor": 4
}
